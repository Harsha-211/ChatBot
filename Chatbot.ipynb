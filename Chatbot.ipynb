{
 "cells": [
  {
   "cell_type": "code",
   "execution_count": 1,
   "id": "96a6f1fa-ecbd-4606-9438-4868b4107f79",
   "metadata": {},
   "outputs": [],
   "source": [
    "import json"
   ]
  },
  {
   "cell_type": "code",
   "execution_count": 2,
   "id": "4e8b7963-3897-464b-adb7-0e7d01917257",
   "metadata": {},
   "outputs": [],
   "source": [
    "with open(\"D:/Pythonn/train-v2.0.json\",\"r\")as f:\n",
    "    data = json.load(f)"
   ]
  },
  {
   "cell_type": "code",
   "execution_count": 3,
   "id": "ee647665-9a0a-436c-90d8-200ce50d7d53",
   "metadata": {},
   "outputs": [],
   "source": [
    "passages = []\n",
    "questions = []\n",
    "answers = []"
   ]
  },
  {
   "cell_type": "code",
   "execution_count": 4,
   "id": "7b4e1990-2ae0-4e96-b059-b0eb4a5dbf69",
   "metadata": {},
   "outputs": [],
   "source": [
    "for entry in data['data']:\n",
    "    for paragraph in entry['paragraphs']:\n",
    "        passage = paragraph['context']\n",
    "        for qa in paragraph['qas']:\n",
    "            question = qa['question']\n",
    "            answer = qa['answers']\n",
    "            passages.append(passage)\n",
    "            questions.append(question)\n",
    "            answers.append(answer)"
   ]
  },
  {
   "cell_type": "code",
   "execution_count": 5,
   "id": "eb8f2d7e-b391-489b-a37e-5a358fec6a80",
   "metadata": {},
   "outputs": [
    {
     "name": "stdout",
     "output_type": "stream",
     "text": [
      "130319\n",
      "130319\n"
     ]
    }
   ],
   "source": [
    "print(len(questions))\n",
    "print(len(answers))"
   ]
  },
  {
   "cell_type": "code",
   "execution_count": 6,
   "id": "2cd0849e-f391-4bff-8544-96bc4f7f2f1f",
   "metadata": {},
   "outputs": [
    {
     "name": "stdout",
     "output_type": "stream",
     "text": [
      "When did Beyonce leave Destiny's Child and become a solo singer?\n",
      "[{'text': '2003', 'answer_start': 526}]\n"
     ]
    }
   ],
   "source": [
    "print(questions[2])\n",
    "print(answers[2])"
   ]
  },
  {
   "cell_type": "code",
   "execution_count": 7,
   "id": "6229b571-5a1a-4304-9c96-87eaf3e6d154",
   "metadata": {},
   "outputs": [
    {
     "name": "stdout",
     "output_type": "stream",
     "text": [
      "130319\n",
      "130319\n",
      "130319\n"
     ]
    }
   ],
   "source": [
    "print(len(questions))\n",
    "print(len(answers))\n",
    "print(len(passages))"
   ]
  },
  {
   "cell_type": "code",
   "execution_count": 9,
   "id": "715e0168-948c-4e68-8171-a1fe88e3ec44",
   "metadata": {},
   "outputs": [
    {
     "name": "stdout",
     "output_type": "stream",
     "text": [
      "What nationality were the two friends who served as a pivotal influence in Frédéric's life while in Paris?\n",
      "......................................................................\n",
      "[{'text': 'Polish', 'answer_start': 4}]\n",
      "......................................................................\n",
      "Two Polish friends in Paris were also to play important roles in Chopin's life there. His fellow student at the Warsaw Conservatory, Julian Fontana, had originally tried unsuccessfully to establish himself in England; Albert Grzymała, who in Paris became a wealthy financier and society figure, often acted as Chopin's adviser and \"gradually began to fill the role of elder brother in [his] life.\" Fontana was to become, in the words of Michałowski and Samson, Chopin's \"general factotum and copyist\".\n"
     ]
    }
   ],
   "source": [
    "print(questions[1000])\n",
    "print(\"......................................................................\")\n",
    "print(answers[1000])\n",
    "print(\"......................................................................\")\n",
    "print(passages[1000])"
   ]
  },
  {
   "cell_type": "code",
   "execution_count": null,
   "id": "74719bda-441a-4e04-a326-3db4efc5fff3",
   "metadata": {},
   "outputs": [],
   "source": []
  }
 ],
 "metadata": {
  "kernelspec": {
   "display_name": "Python 3 (ipykernel)",
   "language": "python",
   "name": "python3"
  },
  "language_info": {
   "codemirror_mode": {
    "name": "ipython",
    "version": 3
   },
   "file_extension": ".py",
   "mimetype": "text/x-python",
   "name": "python",
   "nbconvert_exporter": "python",
   "pygments_lexer": "ipython3",
   "version": "3.11.5"
  }
 },
 "nbformat": 4,
 "nbformat_minor": 5
}
